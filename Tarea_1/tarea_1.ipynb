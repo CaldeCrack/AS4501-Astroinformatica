{
 "cells": [
  {
   "cell_type": "markdown",
   "metadata": {},
   "source": [
    "## AS7501 - Tarea 1 - How much rain is too much\n",
    "\n",
    "---\n",
    "\n",
    "### Estudiante: Andrés Calderón\n",
    "\n",
    "#### Q1.1"
   ]
  },
  {
   "cell_type": "markdown",
   "metadata": {},
   "source": [
    "Librerías a utilizar:"
   ]
  },
  {
   "cell_type": "code",
   "execution_count": null,
   "metadata": {},
   "outputs": [],
   "source": [
    "%pip install numpy scipy astropy pandas matplotlib"
   ]
  },
  {
   "cell_type": "markdown",
   "metadata": {},
   "source": [
    "Importamos los dataframes:"
   ]
  },
  {
   "cell_type": "code",
   "execution_count": 6,
   "metadata": {},
   "outputs": [],
   "source": [
    "import pandas as pd\n",
    "\n",
    "pdf_ec = pd.read_csv(\"data/330077_HR.csv\")\n",
    "pdf_ls = pd.read_csv(\"data/290004_HR.csv\")\n",
    "pdf_c = pd.read_csv(\"data/220002_HR.csv\")\n",
    "pdf_t = pd.read_csv(\"data/330019_HR.csv\")"
   ]
  },
  {
   "cell_type": "code",
   "execution_count": 7,
   "metadata": {},
   "outputs": [],
   "source": [
    "import numpy as np\n",
    "def gauss(x, *p):\n",
    "    A, mu, sigma = p\n",
    "    return A*np.exp(-(x-mu)**2/(2.*sigma**2))"
   ]
  },
  {
   "cell_type": "code",
   "execution_count": null,
   "metadata": {},
   "outputs": [],
   "source": [
    "from matplotlib import pyplot as plt\n",
    "from scipy import optimize as opt\n",
    "%matplotlib inline\n",
    "\n",
    "pdfs = [pdf_ec, pdf_ls, pdf_c, pdf_t]\n",
    "\n",
    "for pdf in pdfs:\n",
    "    filt = pdf['month'] == 12\n",
    "    plt.scatter(pdf['hour'][filt], pdf['HR'][filt])\n",
    "    cv= []\n",
    "    eff=[]\n",
    "    err=[]\n",
    "\n",
    "\n",
    "    for d in pdf[filt]['date'].unique():\n",
    "        ff = pdf[filt]['date']==d\n",
    "        plt.plot(pdf['hour'][filt][ff], pdf['HR'][filt][ff])\n",
    "        try:\n",
    "            coeff, var_matrix = opt.curve_fit(gauss, pdf['hour'][filt][ff], pdf['HR'][filt][ff])\n",
    "            cv.append([coeff,var_matrix])\n",
    "            eff.append(np.sqrt(np.diag(var_matrix)))\n",
    "            diff = pdf['HR'][filt][ff] - gauss(pdf['hour'][filt][ff], *coeff)\n",
    "        except:\n",
    "            print('date %s failed, '%(d))\n",
    "            cv.append([None,None])\n",
    "            eff.append(None)\n",
    "            diff = pdf['HR'][filt][ff]\n",
    "        err.append(np.sum(diff*diff/2.))"
   ]
  }
 ],
 "metadata": {
  "kernelspec": {
   "display_name": "venv",
   "language": "python",
   "name": "python3"
  },
  "language_info": {
   "codemirror_mode": {
    "name": "ipython",
    "version": 3
   },
   "file_extension": ".py",
   "mimetype": "text/x-python",
   "name": "python",
   "nbconvert_exporter": "python",
   "pygments_lexer": "ipython3",
   "version": "3.10.11"
  },
  "orig_nbformat": 4
 },
 "nbformat": 4,
 "nbformat_minor": 2
}
