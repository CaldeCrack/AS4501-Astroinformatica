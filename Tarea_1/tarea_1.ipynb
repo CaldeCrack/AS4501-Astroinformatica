{
 "cells": [
  {
   "cell_type": "markdown",
   "metadata": {},
   "source": [
    "## AS4501 - Tarea 1 - How much rain is too much\n",
    "\n",
    "---\n",
    "\n",
    "### Estudiante: Andrés Calderón\n",
    "\n",
    "#### Q1.1"
   ]
  },
  {
   "cell_type": "markdown",
   "metadata": {},
   "source": [
    "Librerías a utilizar:"
   ]
  },
  {
   "cell_type": "code",
   "execution_count": null,
   "metadata": {},
   "outputs": [],
   "source": [
    "%pip install numpy scipy astropy pandas matplotlib emcee"
   ]
  },
  {
   "cell_type": "markdown",
   "metadata": {},
   "source": [
    "Importamos los dataframes:"
   ]
  },
  {
   "cell_type": "code",
   "execution_count": 61,
   "metadata": {},
   "outputs": [],
   "source": [
    "import pandas as pd\n",
    "\n",
    "hr_colorado = pd.read_csv(\"data/330077_HR.csv\")\n",
    "hr_serena = pd.read_csv(\"data/290004_HR.csv\")\n",
    "hr_calama = pd.read_csv(\"data/220002_HR.csv\")\n",
    "hr_tobalaba = pd.read_csv(\"data/330019_HR.csv\")"
   ]
  },
  {
   "cell_type": "markdown",
   "metadata": {},
   "source": [
    "Graficamos la distribución de datos para cada zona:"
   ]
  },
  {
   "cell_type": "code",
   "execution_count": 102,
   "metadata": {},
   "outputs": [
    {
     "name": "stderr",
     "output_type": "stream",
     "text": [
      "C:\\Users\\ninja\\AppData\\Local\\Temp\\ipykernel_14884\\561751830.py:8: DeprecationWarning: Please use `gaussian_kde` from the `scipy.stats` namespace, the `scipy.stats.kde` namespace is deprecated.\n",
      "  nparam_density = stats.kde.gaussian_kde(df.values.ravel())\n"
     ]
    },
    {
     "ename": "TypeError",
     "evalue": "can't multiply sequence by non-int of type 'float'",
     "output_type": "error",
     "traceback": [
      "\u001b[1;31m---------------------------------------------------------------------------\u001b[0m",
      "\u001b[1;31mTypeError\u001b[0m                                 Traceback (most recent call last)",
      "\u001b[1;32mc:\\Users\\ninja\\OneDrive\\Escritorio\\Academicos\\DAS\\Astroinformatica\\Tarea_1\\tarea_1.ipynb Cell 7\u001b[0m line \u001b[0;36m1\n\u001b[0;32m     <a href='vscode-notebook-cell:/c%3A/Users/ninja/OneDrive/Escritorio/Academicos/DAS/Astroinformatica/Tarea_1/tarea_1.ipynb#X22sZmlsZQ%3D%3D?line=14'>15</a>\u001b[0m     ax\u001b[39m.\u001b[39mset_ylim([\u001b[39m0\u001b[39m, \u001b[39m0.15\u001b[39m])\n\u001b[0;32m     <a href='vscode-notebook-cell:/c%3A/Users/ninja/OneDrive/Escritorio/Academicos/DAS/Astroinformatica/Tarea_1/tarea_1.ipynb#X22sZmlsZQ%3D%3D?line=15'>16</a>\u001b[0m     ax\u001b[39m.\u001b[39mlegend(loc\u001b[39m=\u001b[39m\u001b[39m'\u001b[39m\u001b[39mbest\u001b[39m\u001b[39m'\u001b[39m)\n\u001b[1;32m---> <a href='vscode-notebook-cell:/c%3A/Users/ninja/OneDrive/Escritorio/Academicos/DAS/Astroinformatica/Tarea_1/tarea_1.ipynb#X22sZmlsZQ%3D%3D?line=17'>18</a>\u001b[0m plot_pdf(hr_colorado, \u001b[39m\"\u001b[39;49m\u001b[39mEl Colorado\u001b[39;49m\u001b[39m\"\u001b[39;49m)\n\u001b[0;32m     <a href='vscode-notebook-cell:/c%3A/Users/ninja/OneDrive/Escritorio/Academicos/DAS/Astroinformatica/Tarea_1/tarea_1.ipynb#X22sZmlsZQ%3D%3D?line=18'>19</a>\u001b[0m plot_pdf(hr_serena, \u001b[39m\"\u001b[39m\u001b[39mLa Serena\u001b[39m\u001b[39m\"\u001b[39m)\n\u001b[0;32m     <a href='vscode-notebook-cell:/c%3A/Users/ninja/OneDrive/Escritorio/Academicos/DAS/Astroinformatica/Tarea_1/tarea_1.ipynb#X22sZmlsZQ%3D%3D?line=19'>20</a>\u001b[0m plot_pdf(hr_calama, \u001b[39m\"\u001b[39m\u001b[39mCalama\u001b[39m\u001b[39m\"\u001b[39m)\n",
      "\u001b[1;32mc:\\Users\\ninja\\OneDrive\\Escritorio\\Academicos\\DAS\\Astroinformatica\\Tarea_1\\tarea_1.ipynb Cell 7\u001b[0m line \u001b[0;36m8\n\u001b[0;32m      <a href='vscode-notebook-cell:/c%3A/Users/ninja/OneDrive/Escritorio/Academicos/DAS/Astroinformatica/Tarea_1/tarea_1.ipynb#X22sZmlsZQ%3D%3D?line=5'>6</a>\u001b[0m \u001b[39mdef\u001b[39;00m \u001b[39mplot_pdf\u001b[39m(df, name):\n\u001b[0;32m      <a href='vscode-notebook-cell:/c%3A/Users/ninja/OneDrive/Escritorio/Academicos/DAS/Astroinformatica/Tarea_1/tarea_1.ipynb#X22sZmlsZQ%3D%3D?line=6'>7</a>\u001b[0m     \u001b[39m# non-parametric pdf\u001b[39;00m\n\u001b[1;32m----> <a href='vscode-notebook-cell:/c%3A/Users/ninja/OneDrive/Escritorio/Academicos/DAS/Astroinformatica/Tarea_1/tarea_1.ipynb#X22sZmlsZQ%3D%3D?line=7'>8</a>\u001b[0m     nparam_density \u001b[39m=\u001b[39m stats\u001b[39m.\u001b[39;49mkde\u001b[39m.\u001b[39;49mgaussian_kde(df\u001b[39m.\u001b[39;49mvalues\u001b[39m.\u001b[39;49mravel())\n\u001b[0;32m      <a href='vscode-notebook-cell:/c%3A/Users/ninja/OneDrive/Escritorio/Academicos/DAS/Astroinformatica/Tarea_1/tarea_1.ipynb#X22sZmlsZQ%3D%3D?line=8'>9</a>\u001b[0m     x \u001b[39m=\u001b[39m np\u001b[39m.\u001b[39mlinspace(\u001b[39m-\u001b[39m\u001b[39m20\u001b[39m, \u001b[39m10\u001b[39m, \u001b[39m200\u001b[39m)\n\u001b[0;32m     <a href='vscode-notebook-cell:/c%3A/Users/ninja/OneDrive/Escritorio/Academicos/DAS/Astroinformatica/Tarea_1/tarea_1.ipynb#X22sZmlsZQ%3D%3D?line=9'>10</a>\u001b[0m     nparam_density \u001b[39m=\u001b[39m nparam_density(x)\n",
      "File \u001b[1;32mc:\\Users\\ninja\\OneDrive\\Escritorio\\Academicos\\DAS\\Astroinformatica\\venv\\lib\\site-packages\\scipy\\stats\\_kde.py:223\u001b[0m, in \u001b[0;36mgaussian_kde.__init__\u001b[1;34m(self, dataset, bw_method, weights)\u001b[0m\n\u001b[0;32m    220\u001b[0m     \u001b[39mraise\u001b[39;00m \u001b[39mValueError\u001b[39;00m(msg)\n\u001b[0;32m    222\u001b[0m \u001b[39mtry\u001b[39;00m:\n\u001b[1;32m--> 223\u001b[0m     \u001b[39mself\u001b[39;49m\u001b[39m.\u001b[39;49mset_bandwidth(bw_method\u001b[39m=\u001b[39;49mbw_method)\n\u001b[0;32m    224\u001b[0m \u001b[39mexcept\u001b[39;00m linalg\u001b[39m.\u001b[39mLinAlgError \u001b[39mas\u001b[39;00m e:\n\u001b[0;32m    225\u001b[0m     msg \u001b[39m=\u001b[39m (\u001b[39m\"\u001b[39m\u001b[39mThe data appears to lie in a lower-dimensional subspace \u001b[39m\u001b[39m\"\u001b[39m\n\u001b[0;32m    226\u001b[0m            \u001b[39m\"\u001b[39m\u001b[39mof the space in which it is expressed. This has resulted \u001b[39m\u001b[39m\"\u001b[39m\n\u001b[0;32m    227\u001b[0m            \u001b[39m\"\u001b[39m\u001b[39min a singular data covariance matrix, which cannot be \u001b[39m\u001b[39m\"\u001b[39m\n\u001b[1;32m   (...)\u001b[0m\n\u001b[0;32m    230\u001b[0m            \u001b[39m\"\u001b[39m\u001b[39manalysis / dimensionality reduction and using \u001b[39m\u001b[39m\"\u001b[39m\n\u001b[0;32m    231\u001b[0m            \u001b[39m\"\u001b[39m\u001b[39m`gaussian_kde` with the transformed data.\u001b[39m\u001b[39m\"\u001b[39m)\n",
      "File \u001b[1;32mc:\\Users\\ninja\\OneDrive\\Escritorio\\Academicos\\DAS\\Astroinformatica\\venv\\lib\\site-packages\\scipy\\stats\\_kde.py:571\u001b[0m, in \u001b[0;36mgaussian_kde.set_bandwidth\u001b[1;34m(self, bw_method)\u001b[0m\n\u001b[0;32m    567\u001b[0m     msg \u001b[39m=\u001b[39m \u001b[39m\"\u001b[39m\u001b[39m`bw_method` should be \u001b[39m\u001b[39m'\u001b[39m\u001b[39mscott\u001b[39m\u001b[39m'\u001b[39m\u001b[39m, \u001b[39m\u001b[39m'\u001b[39m\u001b[39msilverman\u001b[39m\u001b[39m'\u001b[39m\u001b[39m, a scalar \u001b[39m\u001b[39m\"\u001b[39m \\\n\u001b[0;32m    568\u001b[0m           \u001b[39m\"\u001b[39m\u001b[39mor a callable.\u001b[39m\u001b[39m\"\u001b[39m\n\u001b[0;32m    569\u001b[0m     \u001b[39mraise\u001b[39;00m \u001b[39mValueError\u001b[39;00m(msg)\n\u001b[1;32m--> 571\u001b[0m \u001b[39mself\u001b[39;49m\u001b[39m.\u001b[39;49m_compute_covariance()\n",
      "File \u001b[1;32mc:\\Users\\ninja\\OneDrive\\Escritorio\\Academicos\\DAS\\Astroinformatica\\venv\\lib\\site-packages\\scipy\\stats\\_kde.py:580\u001b[0m, in \u001b[0;36mgaussian_kde._compute_covariance\u001b[1;34m(self)\u001b[0m\n\u001b[0;32m    578\u001b[0m \u001b[39m# Cache covariance and Cholesky decomp of covariance\u001b[39;00m\n\u001b[0;32m    579\u001b[0m \u001b[39mif\u001b[39;00m \u001b[39mnot\u001b[39;00m \u001b[39mhasattr\u001b[39m(\u001b[39mself\u001b[39m, \u001b[39m'\u001b[39m\u001b[39m_data_cho_cov\u001b[39m\u001b[39m'\u001b[39m):\n\u001b[1;32m--> 580\u001b[0m     \u001b[39mself\u001b[39m\u001b[39m.\u001b[39m_data_covariance \u001b[39m=\u001b[39m atleast_2d(cov(\u001b[39mself\u001b[39;49m\u001b[39m.\u001b[39;49mdataset, rowvar\u001b[39m=\u001b[39;49m\u001b[39m1\u001b[39;49m,\n\u001b[0;32m    581\u001b[0m                                        bias\u001b[39m=\u001b[39;49m\u001b[39mFalse\u001b[39;49;00m,\n\u001b[0;32m    582\u001b[0m                                        aweights\u001b[39m=\u001b[39;49m\u001b[39mself\u001b[39;49m\u001b[39m.\u001b[39;49mweights))\n\u001b[0;32m    583\u001b[0m     \u001b[39mself\u001b[39m\u001b[39m.\u001b[39m_data_cho_cov \u001b[39m=\u001b[39m linalg\u001b[39m.\u001b[39mcholesky(\u001b[39mself\u001b[39m\u001b[39m.\u001b[39m_data_covariance,\n\u001b[0;32m    584\u001b[0m                                          lower\u001b[39m=\u001b[39m\u001b[39mTrue\u001b[39;00m)\n\u001b[0;32m    586\u001b[0m \u001b[39mself\u001b[39m\u001b[39m.\u001b[39mcovariance \u001b[39m=\u001b[39m \u001b[39mself\u001b[39m\u001b[39m.\u001b[39m_data_covariance \u001b[39m*\u001b[39m \u001b[39mself\u001b[39m\u001b[39m.\u001b[39mfactor\u001b[39m*\u001b[39m\u001b[39m*\u001b[39m\u001b[39m2\u001b[39m\n",
      "File \u001b[1;32mc:\\Users\\ninja\\OneDrive\\Escritorio\\Academicos\\DAS\\Astroinformatica\\venv\\lib\\site-packages\\numpy\\lib\\function_base.py:2724\u001b[0m, in \u001b[0;36mcov\u001b[1;34m(m, y, rowvar, bias, ddof, fweights, aweights, dtype)\u001b[0m\n\u001b[0;32m   2721\u001b[0m     \u001b[39melse\u001b[39;00m:\n\u001b[0;32m   2722\u001b[0m         w \u001b[39m*\u001b[39m\u001b[39m=\u001b[39m aweights\n\u001b[1;32m-> 2724\u001b[0m avg, w_sum \u001b[39m=\u001b[39m average(X, axis\u001b[39m=\u001b[39;49m\u001b[39m1\u001b[39;49m, weights\u001b[39m=\u001b[39;49mw, returned\u001b[39m=\u001b[39;49m\u001b[39mTrue\u001b[39;49;00m)\n\u001b[0;32m   2725\u001b[0m w_sum \u001b[39m=\u001b[39m w_sum[\u001b[39m0\u001b[39m]\n\u001b[0;32m   2727\u001b[0m \u001b[39m# Determine the normalization\u001b[39;00m\n",
      "File \u001b[1;32mc:\\Users\\ninja\\OneDrive\\Escritorio\\Academicos\\DAS\\Astroinformatica\\venv\\lib\\site-packages\\numpy\\lib\\function_base.py:553\u001b[0m, in \u001b[0;36maverage\u001b[1;34m(a, axis, weights, returned, keepdims)\u001b[0m\n\u001b[0;32m    549\u001b[0m     \u001b[39mif\u001b[39;00m np\u001b[39m.\u001b[39many(scl \u001b[39m==\u001b[39m \u001b[39m0.0\u001b[39m):\n\u001b[0;32m    550\u001b[0m         \u001b[39mraise\u001b[39;00m \u001b[39mZeroDivisionError\u001b[39;00m(\n\u001b[0;32m    551\u001b[0m             \u001b[39m\"\u001b[39m\u001b[39mWeights sum to zero, can\u001b[39m\u001b[39m'\u001b[39m\u001b[39mt be normalized\u001b[39m\u001b[39m\"\u001b[39m)\n\u001b[1;32m--> 553\u001b[0m     avg \u001b[39m=\u001b[39m avg_as_array \u001b[39m=\u001b[39m np\u001b[39m.\u001b[39;49mmultiply(a, wgt,\n\u001b[0;32m    554\u001b[0m                       dtype\u001b[39m=\u001b[39;49mresult_dtype)\u001b[39m.\u001b[39msum(axis, \u001b[39m*\u001b[39m\u001b[39m*\u001b[39mkeepdims_kw) \u001b[39m/\u001b[39m scl\n\u001b[0;32m    556\u001b[0m \u001b[39mif\u001b[39;00m returned:\n\u001b[0;32m    557\u001b[0m     \u001b[39mif\u001b[39;00m scl\u001b[39m.\u001b[39mshape \u001b[39m!=\u001b[39m avg_as_array\u001b[39m.\u001b[39mshape:\n",
      "\u001b[1;31mTypeError\u001b[0m: can't multiply sequence by non-int of type 'float'"
     ]
    }
   ],
   "source": [
    "from matplotlib import pyplot as plt\n",
    "import numpy as np\n",
    "%matplotlib inline\n",
    "\n",
    "def plot_pdf(hr, name):\n",
    "    counts, bin_edges = np.histogram(hr[\"HR\"], bins=20, density=True)\n",
    "\n",
    "    pdf = counts/sum(counts)\n",
    "    plt.title(f\"HR in {name}\")\n",
    "    plt.xlabel(\"HR\")\n",
    "    plt.ylabel(\"Probability\")\n",
    "    plt.plot(bin_edges[1:], pdf)\n",
    "\n",
    "    plt.show()\n",
    "\n",
    "plot_pdf(hr_colorado, \"El Colorado\")\n",
    "plot_pdf(hr_serena, \"La Serena\")\n",
    "plot_pdf(hr_calama, \"Calama\")\n",
    "plot_pdf(hr_tobalaba, \"Tobalaba\")"
   ]
  }
 ],
 "metadata": {
  "kernelspec": {
   "display_name": "venv",
   "language": "python",
   "name": "python3"
  },
  "language_info": {
   "codemirror_mode": {
    "name": "ipython",
    "version": 3
   },
   "file_extension": ".py",
   "mimetype": "text/x-python",
   "name": "python",
   "nbconvert_exporter": "python",
   "pygments_lexer": "ipython3",
   "version": "3.10.11"
  },
  "orig_nbformat": 4
 },
 "nbformat": 4,
 "nbformat_minor": 2
}
